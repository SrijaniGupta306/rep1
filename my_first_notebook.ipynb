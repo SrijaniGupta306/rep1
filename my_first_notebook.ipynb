{
 "cells": [
  {
   "cell_type": "markdown",
   "id": "470a37e9-0b4c-4ae4-987c-d3434703e8a3",
   "metadata": {},
   "source": [
    "# My Data Science Notebook\n"
   ]
  },
  {
   "cell_type": "markdown",
   "id": "8e73862e-7383-4355-bd14-9ffde9c07ed2",
   "metadata": {},
   "source": [
    "## Introduction\n",
    "\n",
    "This notebook is designed to demonstrate various data science concepts, including data visualization, arithmetic operations, and machine learning techniques.\n"
   ]
  },
  {
   "cell_type": "markdown",
   "id": "76ccffe8-2eca-4bc7-b834-00fd7169fff2",
   "metadata": {},
   "source": [
    "## Data Science Languages\n",
    "\n",
    "- Python\n",
    "- R\n",
    "- SQL\n",
    "- Java\n"
   ]
  },
  {
   "cell_type": "markdown",
   "id": "67af9649-76ca-4944-8116-7bd06f1db918",
   "metadata": {},
   "source": [
    "## Data Science Libraries\n",
    "- Pandas\n",
    "- NumPy\n",
    "- Matplotlib\n",
    "- Scikit-learn\n",
    "- TensorFlow\n",
    "- PyTorch\n"
   ]
  },
  {
   "cell_type": "markdown",
   "id": "742e2150-d01e-4c4c-9ba7-c3ce0ebd78c8",
   "metadata": {},
   "source": [
    "## Data Science Tools\n",
    "\n",
    "| Tool         | Purpose                           |\n",
    "|--------------|-----------------------------------|\n",
    "| Jupyter      | Interactive notebook environment  |\n",
    "| RStudio      | IDE for R programming             |\n",
    "| TensorFlow   | Machine learning library          |\n",
    "| Pandas       | Data manipulation library         |\n",
    "| GitHub       | Version control and collaboration |\n"
   ]
  },
  {
   "cell_type": "markdown",
   "id": "bcd47946-22f7-44b7-8836-086a2d13b706",
   "metadata": {},
   "source": [
    "## Arithmetic Expression Examples\n",
    "\n",
    "This section demonstrates how to perform basic arithmetic operations using Python.\n"
   ]
  },
  {
   "cell_type": "code",
   "execution_count": 3,
   "id": "82d7c6dd-db34-4269-a07a-00babee4b359",
   "metadata": {},
   "outputs": [
    {
     "data": {
      "text/plain": [
       "70"
      ]
     },
     "execution_count": 3,
     "metadata": {},
     "output_type": "execute_result"
    }
   ],
   "source": [
    "# Multiplying and adding numbers\n",
    "a = 5\n",
    "b = 10\n",
    "result = a * b + 20\n",
    "result\n"
   ]
  },
  {
   "cell_type": "code",
   "execution_count": 4,
   "id": "fba4157d-e58d-495e-8f13-03993fa00706",
   "metadata": {},
   "outputs": [
    {
     "data": {
      "text/plain": [
       "2.0"
      ]
     },
     "execution_count": 4,
     "metadata": {},
     "output_type": "execute_result"
    }
   ],
   "source": [
    "# Convert minutes to hours\n",
    "minutes = 120\n",
    "hours = minutes / 60\n",
    "hours\n"
   ]
  },
  {
   "cell_type": "markdown",
   "id": "46478b1a-ceaf-478e-977a-47d78701777e",
   "metadata": {},
   "source": [
    "## Objectives\n",
    "- Learn to use markdown cells.\n",
    "- Understand how to perform basic arithmetic operations.\n",
    "- Create data science tables and visualizations.\n"
   ]
  },
  {
   "cell_type": "markdown",
   "id": "90ab8eb4-70f9-4a6e-8dee-8e1e575a85ae",
   "metadata": {},
   "source": [
    "## Author\n",
    "- Name: Srijani Gupta\n"
   ]
  },
  {
   "cell_type": "code",
   "execution_count": null,
   "id": "16b6f5a5-05a4-4ecb-98c3-75bd9f57ee56",
   "metadata": {},
   "outputs": [],
   "source": []
  }
 ],
 "metadata": {
  "kernelspec": {
   "display_name": "Python 3 (ipykernel)",
   "language": "python",
   "name": "python3"
  },
  "language_info": {
   "codemirror_mode": {
    "name": "ipython",
    "version": 3
   },
   "file_extension": ".py",
   "mimetype": "text/x-python",
   "name": "python",
   "nbconvert_exporter": "python",
   "pygments_lexer": "ipython3",
   "version": "3.13.1"
  }
 },
 "nbformat": 4,
 "nbformat_minor": 5
}
